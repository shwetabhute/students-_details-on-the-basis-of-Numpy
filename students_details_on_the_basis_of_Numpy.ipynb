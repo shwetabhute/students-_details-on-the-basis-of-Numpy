{
  "nbformat": 4,
  "nbformat_minor": 0,
  "metadata": {
    "colab": {
      "name": "students details on the basis of Numpy",
      "provenance": [],
      "authorship_tag": "ABX9TyM05zPFiiukfZQ1es9JpzDn",
      "include_colab_link": true
    },
    "kernelspec": {
      "name": "python3",
      "display_name": "Python 3"
    },
    "language_info": {
      "name": "python"
    }
  },
  "cells": [
    {
      "cell_type": "markdown",
      "metadata": {
        "id": "view-in-github",
        "colab_type": "text"
      },
      "source": [
        "<a href=\"https://colab.research.google.com/github/shwetabhute/students-_details-on-the-basis-of-Numpy/blob/main/students_details_on_the_basis_of_Numpy.ipynb\" target=\"_parent\"><img src=\"https://colab.research.google.com/assets/colab-badge.svg\" alt=\"Open In Colab\"/></a>"
      ]
    },
    {
      "cell_type": "code",
      "execution_count": 1,
      "metadata": {
        "colab": {
          "base_uri": "https://localhost:8080/"
        },
        "id": "bzR0ZwOszAFx",
        "outputId": "a608834a-9428-4866-de58-efe783ac2581"
      },
      "outputs": [
        {
          "output_type": "stream",
          "name": "stdout",
          "text": [
            "original array\n",
            "[(b'', 5, 48.5 ) (b'', 6, 52.5 ) (b'', 5, 42.1 ) (b'', 5, 40.11)]\n",
            "sort by array\n",
            "[(b'', 5, 40.11) (b'', 5, 42.1 ) (b'', 5, 48.5 ) (b'', 6, 52.5 )]\n"
          ]
        }
      ],
      "source": [
        "import numpy as np\n",
        "data_types=[('name','S'),('class',int),('height',float)]\n",
        "students_details = [('James',5,48.5),('Nail',6,52.5),('Paul',5, 42.10),('Pit', 5,40.11)]\n",
        "#create a structured array\n",
        "students=np.array(students_details,dtype=data_types)\n",
        "print('original array')\n",
        "print(students)\n",
        "print('sort by array')\n",
        "print(np.sort(students,order='height'))"
      ]
    }
  ]
}